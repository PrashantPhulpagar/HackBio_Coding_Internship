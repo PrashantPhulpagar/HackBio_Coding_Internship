{
  "nbformat": 4,
  "nbformat_minor": 0,
  "metadata": {
    "colab": {
      "provenance": []
    },
    "kernelspec": {
      "name": "python3",
      "display_name": "Python 3"
    },
    "language_info": {
      "name": "python"
    }
  },
  "cells": [
    {
      "cell_type": "code",
      "execution_count": 3,
      "metadata": {
        "colab": {
          "base_uri": "https://localhost:8080/"
        },
        "id": "7rMauETynfy_",
        "outputId": "3033a68f-3bf7-4191-f95a-e1d523b84a50"
      },
      "outputs": [
        {
          "output_type": "stream",
          "name": "stdout",
          "text": [
            "Time 0: Population 10.00\n",
            "Time 1: Population 10.00\n",
            "Time 2: Population 10.00\n",
            "Time 3: Population 12.00\n",
            "Time 4: Population 14.40\n",
            "Time 5: Population 17.28\n",
            "Time 6: Population 20.74\n",
            "Time 7: Population 24.88\n",
            "Time 8: Population 29.86\n",
            "Time 9: Population 35.83\n",
            "Time 10: Population 43.00\n",
            "Time 11: Population 51.60\n",
            "Time 12: Population 61.38\n",
            "Time 13: Population 72.91\n",
            "Time 14: Population 86.43\n",
            "Time 15: Population 102.22\n",
            "Time 16: Population 120.57\n",
            "Time 17: Population 141.78\n",
            "Time 18: Population 166.11\n",
            "Time 19: Population 193.82\n"
          ]
        }
      ],
      "source": [
        "import random\n",
        "\n",
        "def logistic_growth(P0, r, K, time, lag_range, exp_range):\n",
        "    lag_phase = random.randint(*lag_range)\n",
        "    exp_phase = random.randint(*exp_range)\n",
        "\n",
        "    population = []\n",
        "    for t in range(time):\n",
        "        if t < lag_phase:\n",
        "            pop = P0  # Population stays constant in lag phase\n",
        "        elif t < lag_phase + exp_phase:\n",
        "            pop = population[-1] * (1 + r) if population else P0  # Exponential growth\n",
        "        else:\n",
        "            pop = population[-1] + r * population[-1] * (1 - population[-1] / K)  # Logistic growth\n",
        "        population.append(min(pop, K))  # Ensure it does not exceed carrying capacity\n",
        "    return population\n",
        "\n",
        "# Example run\n",
        "random.seed(1)  # Fixing seed for reproducibility\n",
        "output = logistic_growth(P0=10, r=0.2, K=1000, time=20, lag_range=(2, 5), exp_range=(5, 10))\n",
        "\n",
        "# Displaying output\n",
        "for t, pop in enumerate(output):\n",
        "    print(f\"Time {t}: Population {pop:.2f}\")"
      ]
    }
  ]
}