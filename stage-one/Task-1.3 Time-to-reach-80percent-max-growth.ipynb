{
  "nbformat": 4,
  "nbformat_minor": 0,
  "metadata": {
    "colab": {
      "provenance": []
    },
    "kernelspec": {
      "name": "python3",
      "display_name": "Python 3"
    },
    "language_info": {
      "name": "python"
    }
  },
  "cells": [
    {
      "cell_type": "code",
      "execution_count": 4,
      "metadata": {
        "colab": {
          "base_uri": "https://localhost:8080/"
        },
        "id": "7rMauETynfy_",
        "outputId": "9213aaf4-516d-4420-bd36-9e0629aa5107"
      },
      "outputs": [
        {
          "output_type": "stream",
          "name": "stdout",
          "text": [
            "Time to reach 80% of carrying capacity: 31\n"
          ]
        }
      ],
      "source": [
        "def time_to_80_percent(P0, r, K, time):\n",
        "    population = P0\n",
        "    for t in range(time):\n",
        "        population += r * population * (1 - population / K)\n",
        "        if population >= 0.8 * K:\n",
        "            return t  # Return the time when 80% of K is reached\n",
        "    return -1  # If not reached within given time\n",
        "\n",
        "t_80 = time_to_80_percent(P0=10, r=0.2, K=1000, time=50)\n",
        "print(\"Time to reach 80% of carrying capacity:\", t_80)"
      ]
    }
  ]
}