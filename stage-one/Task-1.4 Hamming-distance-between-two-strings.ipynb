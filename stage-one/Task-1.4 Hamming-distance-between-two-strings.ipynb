{
  "nbformat": 4,
  "nbformat_minor": 0,
  "metadata": {
    "colab": {
      "provenance": []
    },
    "kernelspec": {
      "name": "python3",
      "display_name": "Python 3"
    },
    "language_info": {
      "name": "python"
    }
  },
  "cells": [
    {
      "cell_type": "code",
      "execution_count": 5,
      "metadata": {
        "colab": {
          "base_uri": "https://localhost:8080/"
        },
        "id": "7rMauETynfy_",
        "outputId": "c798611e-7754-4886-c837-7bad349b16f3"
      },
      "outputs": [
        {
          "output_type": "stream",
          "name": "stdout",
          "text": [
            "Hamming Distance: 15\n"
          ]
        }
      ],
      "source": [
        "def hamming_distance(str1, str2):\n",
        "    length = max(len(str1), len(str2))\n",
        "    str1 = str1.ljust(length, '_')  # Pad with underscores if needed\n",
        "    str2 = str2.ljust(length, '_')\n",
        "\n",
        "    return sum(1 for i in range(length) if str1[i] != str2[i])\n",
        "\n",
        "# **Example Run:**\n",
        "slack_username = \"bio_prashant\"\n",
        "twitter_handle = \"python_genomics\"\n",
        "\n",
        "distance = hamming_distance(slack_username, twitter_handle)\n",
        "print(\"Hamming Distance:\", distance)"
      ]
    }
  ]
}