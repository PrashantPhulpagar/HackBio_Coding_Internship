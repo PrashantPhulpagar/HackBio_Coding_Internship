{
  "nbformat": 4,
  "nbformat_minor": 0,
  "metadata": {
    "colab": {
      "provenance": []
    },
    "kernelspec": {
      "name": "python3",
      "display_name": "Python 3"
    },
    "language_info": {
      "name": "python"
    }
  },
  "cells": [
    {
      "cell_type": "code",
      "execution_count": 1,
      "metadata": {
        "colab": {
          "base_uri": "https://localhost:8080/"
        },
        "id": "7rMauETynfy_",
        "outputId": "bf9dff60-d832-4f0e-bde2-edfad077b23b"
      },
      "outputs": [
        {
          "output_type": "stream",
          "name": "stdout",
          "text": [
            "Personal Profile:\n",
            "Name: Prashant Phulpagar\n",
            "Slack Username: @Prashant\n",
            "Email: prashantphulpagar0@gmail.com\n",
            "Hobby: Playing Badminton\n",
            "Country: India\n",
            "Discipline: Genetics and Genomics\n",
            "Preferred Programming Language: Python\n"
          ]
        }
      ],
      "source": [
        "personal_profile = {\n",
        "    \"name\": \"Prashant Phulpagar\",\n",
        "    \"slack_username\": \"@Prashant\",\n",
        "    \"email\": \"prashantphulpagar0@gmail.com\",\n",
        "    \"hobby\": \"Playing Badminton\",\n",
        "    \"country\": \"India\",\n",
        "    \"discipline\": \"Genetics and Genomics\",\n",
        "    \"preferred_language\": \"Python\"\n",
        "}\n",
        "\n",
        "print(\"Personal Profile:\")\n",
        "print(f\"Name: {personal_profile['name']}\")\n",
        "print(f\"Slack Username: {personal_profile['slack_username']}\")\n",
        "print(f\"Email: {personal_profile['email']}\")\n",
        "print(f\"Hobby: {personal_profile['hobby']}\")\n",
        "print(f\"Country: {personal_profile['country']}\")\n",
        "print(f\"Discipline: {personal_profile['discipline']}\")\n",
        "print(f\"Preferred Programming Language: {personal_profile['preferred_language']}\")"
      ]
    }
  ]
}